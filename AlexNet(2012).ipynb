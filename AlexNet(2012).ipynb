{
  "nbformat": 4,
  "nbformat_minor": 0,
  "metadata": {
    "colab": {
      "name": "AlexNet(2012).ipynb",
      "provenance": [],
      "collapsed_sections": [],
      "authorship_tag": "ABX9TyNRKKqmLJKshe4NCEedIyqy",
      "include_colab_link": true
    },
    "kernelspec": {
      "name": "python3",
      "display_name": "Python 3"
    },
    "language_info": {
      "name": "python"
    },
    "accelerator": "GPU",
    "gpuClass": "standard"
  },
  "cells": [
    {
      "cell_type": "markdown",
      "metadata": {
        "id": "view-in-github",
        "colab_type": "text"
      },
      "source": [
        "<a href=\"https://colab.research.google.com/github/bibersay/Deep-Project/blob/main/AlexNet(2012).ipynb\" target=\"_parent\"><img src=\"https://colab.research.google.com/assets/colab-badge.svg\" alt=\"Open In Colab\"/></a>"
      ]
    },
    {
      "cell_type": "code",
      "execution_count": null,
      "metadata": {
        "id": "x624elnhR5Uw"
      },
      "outputs": [],
      "source": [
        "import tensorflow as tf\n",
        "import matplotlib.pyplot as plt\n",
        "from tensorflow.keras.datasets import cifar10\n",
        "from tensorflow.keras.models import Sequential, Model \n",
        "from tensorflow.keras.layers import Dense, Dropout, Flatten, Input, Conv2D, MaxPool2D, BatchNormalization \n",
        "from tensorflow.keras.optimizers import Adam\n",
        "from tensorflow.keras.utils import to_categorical\n",
        "from tensorflow.keras import datasets, layers, models, losses\n",
        "import numpy as np"
      ]
    },
    {
      "cell_type": "code",
      "source": [
        "(x_train, y_train), (x_test, y_test) = cifar10.load_data()"
      ],
      "metadata": {
        "colab": {
          "base_uri": "https://localhost:8080/"
        },
        "id": "sQIswwLiR8xK",
        "outputId": "ba7f2b4f-ad66-4c68-84be-82e715afa0cc"
      },
      "execution_count": null,
      "outputs": [
        {
          "output_type": "stream",
          "name": "stdout",
          "text": [
            "Downloading data from https://www.cs.toronto.edu/~kriz/cifar-10-python.tar.gz\n",
            "170500096/170498071 [==============================] - 2s 0us/step\n",
            "170508288/170498071 [==============================] - 3s 0us/step\n"
          ]
        }
      ]
    },
    {
      "cell_type": "code",
      "source": [
        "x_train = x_train.astype('float32')/255.0\n",
        "x_test = x_test.astype('float32')/255.0"
      ],
      "metadata": {
        "id": "i7x2si4FSAwm"
      },
      "execution_count": null,
      "outputs": []
    },
    {
      "cell_type": "code",
      "source": [
        "y_train = to_categorical(y_train, 10)\n",
        "y_test = to_categorical(y_test, 10)"
      ],
      "metadata": {
        "id": "rVgrpZFJSMpl"
      },
      "execution_count": null,
      "outputs": []
    },
    {
      "cell_type": "code",
      "source": [
        "model = Sequential()\n",
        "model.add(layers.experimental.preprocessing.Resizing(227,227, interpolation='bilinear',input_shape=x_train.shape[1:]))\n",
        "model.add(Conv2D(96,11,strides=4, activation='relu', padding='same'))\n",
        "model.add(MaxPool2D(3,strides=2))\n",
        "model.add(BatchNormalization())\n",
        "\n",
        "model.add(Conv2D(256,5,strides=1, activation='relu', padding='same'))\n",
        "model.add(MaxPool2D(2,strides=2))\n",
        "model.add(BatchNormalization())\n",
        "\n",
        "model.add(Conv2D(384,3,strides=1, activation='relu', padding='same'))\n",
        "model.add(Conv2D(384,3,strides=1, activation='relu', padding='same'))\n",
        "model.add(Conv2D(256,3,strides=1, activation='relu', padding='same'))\n",
        "model.add(MaxPool2D(3,strides=2))\n",
        "model.add(BatchNormalization())\n",
        "\n",
        "model.add(Flatten())\n",
        "model.add(Dense(4096, activation = 'relu'))\n",
        "model.add(Dropout(.5))\n",
        "model.add(Dense(4096, activation = 'relu'))\n",
        "model.add(Dropout(.5))\n",
        "model.add(Dense(10, activation = 'softmax'))"
      ],
      "metadata": {
        "id": "4HEMfTVhSWAp"
      },
      "execution_count": null,
      "outputs": []
    },
    {
      "cell_type": "code",
      "source": [
        "model.summary()"
      ],
      "metadata": {
        "colab": {
          "base_uri": "https://localhost:8080/"
        },
        "id": "CAuo5hQlSogE",
        "outputId": "6cf328e0-36d1-4b22-bff9-8a6e289df4ce"
      },
      "execution_count": null,
      "outputs": [
        {
          "output_type": "stream",
          "name": "stdout",
          "text": [
            "Model: \"sequential\"\n",
            "_________________________________________________________________\n",
            " Layer (type)                Output Shape              Param #   \n",
            "=================================================================\n",
            " resizing (Resizing)         (None, 227, 227, 3)       0         \n",
            "                                                                 \n",
            " conv2d (Conv2D)             (None, 57, 57, 96)        34944     \n",
            "                                                                 \n",
            " max_pooling2d (MaxPooling2D  (None, 28, 28, 96)       0         \n",
            " )                                                               \n",
            "                                                                 \n",
            " batch_normalization (BatchN  (None, 28, 28, 96)       384       \n",
            " ormalization)                                                   \n",
            "                                                                 \n",
            " conv2d_1 (Conv2D)           (None, 28, 28, 256)       614656    \n",
            "                                                                 \n",
            " max_pooling2d_1 (MaxPooling  (None, 14, 14, 256)      0         \n",
            " 2D)                                                             \n",
            "                                                                 \n",
            " batch_normalization_1 (Batc  (None, 14, 14, 256)      1024      \n",
            " hNormalization)                                                 \n",
            "                                                                 \n",
            " conv2d_2 (Conv2D)           (None, 14, 14, 384)       885120    \n",
            "                                                                 \n",
            " conv2d_3 (Conv2D)           (None, 14, 14, 384)       1327488   \n",
            "                                                                 \n",
            " conv2d_4 (Conv2D)           (None, 14, 14, 256)       884992    \n",
            "                                                                 \n",
            " max_pooling2d_2 (MaxPooling  (None, 6, 6, 256)        0         \n",
            " 2D)                                                             \n",
            "                                                                 \n",
            " batch_normalization_2 (Batc  (None, 6, 6, 256)        1024      \n",
            " hNormalization)                                                 \n",
            "                                                                 \n",
            " flatten (Flatten)           (None, 9216)              0         \n",
            "                                                                 \n",
            " dense (Dense)               (None, 4096)              37752832  \n",
            "                                                                 \n",
            " dropout (Dropout)           (None, 4096)              0         \n",
            "                                                                 \n",
            " dense_1 (Dense)             (None, 4096)              16781312  \n",
            "                                                                 \n",
            " dropout_1 (Dropout)         (None, 4096)              0         \n",
            "                                                                 \n",
            " dense_2 (Dense)             (None, 10)                40970     \n",
            "                                                                 \n",
            "=================================================================\n",
            "Total params: 58,324,746\n",
            "Trainable params: 58,323,530\n",
            "Non-trainable params: 1,216\n",
            "_________________________________________________________________\n"
          ]
        }
      ]
    },
    {
      "cell_type": "code",
      "source": [
        "model.compile(optimizer = 'adam',\n",
        "              loss = 'categorical_crossentropy',\n",
        "              metrics=['accuracy'])\n",
        "history = model.fit(x_train, y_train, batch_size = 128, epochs=5, verbose=1, validation_data =(x_test, y_test))"
      ],
      "metadata": {
        "colab": {
          "base_uri": "https://localhost:8080/"
        },
        "id": "LIE5JtxLST8L",
        "outputId": "7262ad18-c40f-443d-8b1a-b1370dd6355f"
      },
      "execution_count": null,
      "outputs": [
        {
          "output_type": "stream",
          "name": "stdout",
          "text": [
            "Epoch 1/5\n",
            "391/391 [==============================] - 58s 146ms/step - loss: 1.3529 - accuracy: 0.5218 - val_loss: 4.0409 - val_accuracy: 0.2944\n",
            "Epoch 2/5\n",
            "391/391 [==============================] - 57s 145ms/step - loss: 1.1111 - accuracy: 0.6098 - val_loss: 1.1101 - val_accuracy: 0.6121\n",
            "Epoch 3/5\n",
            "391/391 [==============================] - 57s 145ms/step - loss: 0.9445 - accuracy: 0.6729 - val_loss: 1.3928 - val_accuracy: 0.5471\n",
            "Epoch 4/5\n",
            "391/391 [==============================] - 57s 145ms/step - loss: 0.8367 - accuracy: 0.7114 - val_loss: 0.8873 - val_accuracy: 0.6969\n",
            "Epoch 5/5\n",
            "391/391 [==============================] - 57s 145ms/step - loss: 0.7338 - accuracy: 0.7481 - val_loss: 0.8854 - val_accuracy: 0.6960\n"
          ]
        }
      ]
    },
    {
      "cell_type": "code",
      "source": [
        "# plt.plot(history.history['accuracy'])\n",
        "# plt.plot(history.history['val_accuracy'])\n",
        "# plt.legend(['epoch', 'validation'], loc='upper left')\n",
        "# plt.show()\n",
        "plt.plot(history.history['loss'])\n",
        "plt.plot(history.history['val_loss'])\n",
        "plt.legend(['epoch', 'validation'], loc='upper left')\n",
        "plt.show()"
      ],
      "metadata": {
        "colab": {
          "base_uri": "https://localhost:8080/",
          "height": 265
        },
        "id": "jcU8U9djUOI-",
        "outputId": "88cc6f7d-4701-40f5-88a0-9e4218a19dd7"
      },
      "execution_count": null,
      "outputs": [
        {
          "output_type": "display_data",
          "data": {
            "text/plain": [
              "<Figure size 432x288 with 1 Axes>"
            ],
            "image/png": "[encoded data removed]"
          },
          "metadata": {
            "needs_background": "light"
          }
        }
      ]
    },
    {
      "cell_type": "code",
      "source": [
        "score = model.evaluate(x_test, y_test, verbose=1)\n",
        "print(score[0], score[1])\n",
        "predictions = model.predict(x_test, verbose=1)"
      ],
      "metadata": {
        "colab": {
          "base_uri": "https://localhost:8080/"
        },
        "id": "vqa1LCVmVIFz",
        "outputId": "b096d50e-e767-4dff-82c9-18e65f0372da"
      },
      "execution_count": null,
      "outputs": [
        {
          "output_type": "stream",
          "name": "stdout",
          "text": [
            "313/313 [==============================] - 4s 14ms/step - loss: 0.8854 - accuracy: 0.6960\n",
            "0.8854313492774963 0.6959999799728394\n",
            "313/313 [==============================] - 4s 12ms/step\n"
          ]
        }
      ]
    },
    {
      "cell_type": "code",
      "source": [
        "def load_label_names():\n",
        "    return ['airplane', 'automobile', 'bird', 'cat', 'deer', 'dog', 'frog', 'horse', 'ship', 'truck']\n",
        "\n",
        "def display_image_predictions(features, labels, predictions):\n",
        "    n_classes = 10\n",
        "    label_names = load_label_names()\n",
        "    label_binarizer = LabelBinarizer()\n",
        "    label_binarizer.fit(range(n_classes))\n",
        "    label_ids = label_binarizer.inverse_transform(np.array(labels))\n",
        "\n",
        "    fig, axs = plt.subplots(10, 2, figsize=(12,24))\n",
        "    margin = 0.05\n",
        "    ind = np.arange(n_classes)\n",
        "    width = (1. - 2. * margin) / n_classes    \n",
        "    arr_features = [None]*10\n",
        "    arr_predictions = np.zeros((10, 10))\n",
        "    last_image_i = 0\n",
        "    \n",
        "    for i, prediction in enumerate(predictions):\n",
        "        label_id = label_ids[i]\n",
        "        feature = features[i]\n",
        "        arr_features[label_id] = feature\n",
        "        max_id = np.argmax(prediction)\n",
        "        arr_predictions[label_id][max_id] += 1\n",
        "        last_image_i = i\n",
        "\n",
        "    arr_predictions /= last_image_i\n",
        "    \n",
        "    for i in range(10):\n",
        "      feature = arr_features[i]\n",
        "      pred_name = label_names[i]\n",
        "      prediction = arr_predictions[i]\n",
        "      axs[i][0].imshow(feature)\n",
        "      axs[i][0].set_title(pred_name)\n",
        "      axs[i][0].set_axis_off()\n",
        "\n",
        "      axs[i][1].barh(ind + margin, prediction, width)\n",
        "      axs[i][1].set_yticks(ind + margin)\n",
        "      axs[i][1].set_yticklabels(label_names)\n",
        "\n",
        "    plt.tight_layout()"
      ],
      "metadata": {
        "id": "s2o8rsKqVoeZ"
      },
      "execution_count": null,
      "outputs": []
    }
  ]
}