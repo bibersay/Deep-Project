{
  "nbformat": 4,
  "nbformat_minor": 0,
  "metadata": {
    "colab": {
      "name": "국민신문고 크롤링.ipynb",
      "provenance": [],
      "collapsed_sections": [],
      "authorship_tag": "ABX9TyMAaXEhZBW5vgDHtMvyhTXX",
      "include_colab_link": true
    },
    "kernelspec": {
      "name": "python3",
      "display_name": "Python 3"
    },
    "language_info": {
      "name": "python"
    }
  },
  "cells": [
    {
      "cell_type": "markdown",
      "metadata": {
        "id": "view-in-github",
        "colab_type": "text"
      },
      "source": [
        "<a href=\"https://colab.research.google.com/github/bibersay/Deep-Project/blob/main/%EA%B5%AD%EB%AF%BC%EC%8B%A0%EB%AC%B8%EA%B3%A0_%ED%81%AC%EB%A1%A4%EB%A7%81.ipynb\" target=\"_parent\"><img src=\"https://colab.research.google.com/assets/colab-badge.svg\" alt=\"Open In Colab\"/></a>"
      ]
    },
    {
      "cell_type": "code",
      "source": [
        "import requests\n",
        "import json\n",
        "from bs4 import BeautifulSoup\n",
        "import lxml\n",
        "import pandas as pd\n",
        "import numpy as np\n",
        "import time\n",
        "\n",
        "result = pd.DataFrame()\n",
        "for k in range(1,100):\n",
        "    url = 'https://www.epeople.go.kr/nep/prpsl/opnPrpl/opnpblPrpslList.npaid?pageIndex='+str(k)\n",
        "    response = requests.get(url)\n",
        "    html = response.text\n",
        "    soup = BeautifulSoup(html, 'lxml')\n",
        "    links = soup.select('td > a')\n",
        "    count = 0\n",
        "    names , keys = [],[]\n",
        "    for i,lin in enumerate(links):\n",
        "        if i >= 10:\n",
        "            break\n",
        "        name, key= lin.get('onclick').split(\"'\")[1], lin.get('onclick').split(\"'\")[3]\n",
        "        names.append(name)\n",
        "        keys.append(key)    \n",
        "        url = 'https://www.epeople.go.kr/nep/prpsl/opnPrpl/opnpblPrpslView.npaid?prplRqstNo='+names[i]+'&instRcptSn='+keys[i]\n",
        "\n",
        "        \n",
        "        res = requests.get(url)\n",
        "        soup2 = BeautifulSoup(res.text,'lxml')\n",
        "        title = soup2.find('div', class_ ='cellBig').text.strip()\n",
        "        # context = soup2.find('div', class_ ='b_cont').text.strip()\n",
        "        contexts = soup2.select('div.b_conItem > div.b_cont')\n",
        "        data = []\n",
        "        # print(contexts)\n",
        "        for content in contexts:\n",
        "            data.append(content.text.strip())\n",
        "        data = ''.join(data)\n",
        "        if len(data) != 0:\n",
        "            df1 = pd.DataFrame({'title' : title,\n",
        "                            'content' : [data]\n",
        "            })\n",
        "\n",
        "            result = pd.concat([result, df1])\n",
        "            result.index = np.arange(len(result))\n",
        "        \n",
        "        if i %4 == 0:\n",
        "            print(f\"sleep minute. count : {str(i)}, local time : {time.strftime('%Y-%m-%d', time.localtime(time.time()))}, {time.strftime('%X', time.localtime(time.time()))}, data length : {str(len(result))} \")\n",
        "\n",
        "print(df1)"
      ],
      "metadata": {
        "id": "tDglOu-CIt_m"
      },
      "execution_count": null,
      "outputs": []
    },
    {
      "cell_type": "code",
      "source": [
        "# from google.colab import files\n",
        "# result.to_csv('result.csv')\n",
        "# files.download('result.csv')\n",
        "\n",
        "from google.colab import files\n",
        "uploaded = files.upload()\n",
        "for fn in uploaded.keys():\n",
        "  print('User uploaded file \"{name}\" with length {length} bytes'.format(\n",
        "      name=fn, length=len(uploaded[fn])))"
      ],
      "metadata": {
        "id": "f66bLOdN74lk"
      },
      "execution_count": null,
      "outputs": []
    },
    {
      "cell_type": "code",
      "source": [
        "import pandas as pd\n",
        "result=pd.read_csv('/content/result.csv',  lineterminator='\\n')"
      ],
      "metadata": {
        "id": "3NemVzAQJOwS"
      },
      "execution_count": null,
      "outputs": []
    },
    {
      "cell_type": "code",
      "source": [
        "print(result.shape)\n",
        "df = result\n",
        "df['content'][0]"
      ],
      "metadata": {
        "id": "sKIQ7smvWDx1"
      },
      "execution_count": null,
      "outputs": []
    },
    {
      "cell_type": "code",
      "source": [
        "import re\n",
        "\n",
        "def remove_white_space(text):\n",
        "    text = re.sub(r'[\\t\\r\\n\\f\\v]','',str(text))\n",
        "    return text\n",
        "\n",
        "def remove_special_char(text):\n",
        "    text = re.sub('[^ ㄱ-ㅣ 가-힣 0-9]','',str(text))\n",
        "    return text\n",
        "\n",
        "df.title = df.title.apply(remove_white_space)\n",
        "df.title = df.title.apply(remove_special_char)\n",
        "\n",
        "df.content = df.content.apply(remove_white_space)\n",
        "df.content = df.content.apply(remove_special_char)"
      ],
      "metadata": {
        "id": "RUgueiW9Mwqx"
      },
      "execution_count": null,
      "outputs": []
    },
    {
      "cell_type": "code",
      "source": [
        "%%bash\n",
        "apt-get update\n",
        "apt-get install g++ openjdk-8-jdk python-dev python3-dev\n",
        "pip3 install JPype1\n",
        "pip3 install konlpy"
      ],
      "metadata": {
        "id": "V15OeM5jZ9PS"
      },
      "execution_count": null,
      "outputs": []
    },
    {
      "cell_type": "code",
      "source": [
        "%env JAVA_HOME \"/usr/lib/jvm/java-8-openjdk-amd64\""
      ],
      "metadata": {
        "id": "za33uE9Zy4r4"
      },
      "execution_count": null,
      "outputs": []
    },
    {
      "cell_type": "code",
      "source": [
        "%%bash\n",
        "bash <(curl -s https://raw.githubusercontent.com/konlpy/konlpy/master/scripts/mecab.sh)\n",
        "pip3 install /tmp/mecab-python-0.996"
      ],
      "metadata": {
        "id": "eJGY2-f4zA_R"
      },
      "execution_count": null,
      "outputs": []
    },
    {
      "cell_type": "code",
      "source": [
        "import konlpy\n",
        "from konlpy.tag import Kkma, Komoran, Hannanum, Okt\n",
        "from konlpy.utils import pprint\n",
        "from konlpy.tag import Mecab, Okt"
      ],
      "metadata": {
        "id": "EXnb8e7LzEPS"
      },
      "execution_count": null,
      "outputs": []
    },
    {
      "cell_type": "code",
      "source": [
        "okt = Okt()\n",
        "sentence = \"안녕하세요 저는 천재입니다.\"\n",
        "temp_X = okt.morphs(sentence)\n",
        "temp_X"
      ],
      "metadata": {
        "colab": {
          "base_uri": "https://localhost:8080/"
        },
        "id": "sTpOmMPH4ypO",
        "outputId": "86be2446-5234-4182-c1b5-ed42e3272ba3"
      },
      "execution_count": null,
      "outputs": [
        {
          "output_type": "execute_result",
          "data": {
            "text/plain": [
              "['안녕하세요', '저', '는', '천재', '입니다', '.']"
            ]
          },
          "metadata": {},
          "execution_count": 5
        }
      ]
    },
    {
      "cell_type": "code",
      "source": [
        "okt = Okt()\n",
        "df['title_token'] = df.title.apply(okt.morphs)\n",
        "df['content_token'] = df.content.apply(okt.nouns)"
      ],
      "metadata": {
        "id": "jmVxIAYqzWZp"
      },
      "execution_count": null,
      "outputs": []
    },
    {
      "cell_type": "code",
      "source": [
        "df['token_final'] = df.title_token + df.content_token\n",
        "print(df)\n",
        "print(df.dtypes)    "
      ],
      "metadata": {
        "id": "YQxmsdpn-Isx"
      },
      "execution_count": null,
      "outputs": []
    },
    {
      "cell_type": "code",
      "source": [
        "from gensim.models import Word2Vec\n",
        "df_drop = df[['title_token', 'content_token']]\n",
        "embedding_model = Word2Vec(df_drop['content_token'],\n",
        "                           sg =1,\n",
        "                           size=100,\n",
        "                           window =4,\n",
        "                           min_count =1,\n",
        "                           workers =2\n",
        "                           )\n",
        "print(embedding_model)\n",
        "\n",
        "model_result = embedding_model.wv.most_similar(\"음주\")\n",
        "print(model_result)"
      ],
      "metadata": {
        "colab": {
          "base_uri": "https://localhost:8080/"
        },
        "id": "eEgV7IQ4M1jE",
        "outputId": "d597a270-2460-4a00-f01e-e587392aa389"
      },
      "execution_count": null,
      "outputs": [
        {
          "output_type": "stream",
          "name": "stdout",
          "text": [
            "Word2Vec(vocab=6885, size=100, alpha=0.025)\n",
            "[('아이디어', 0.9985363483428955), ('영산강', 0.9984657764434814), ('갈수록', 0.9984551668167114), ('장착', 0.9984496831893921), ('설정', 0.9984275698661804), ('방면', 0.9984175562858582), ('대형견', 0.9984142780303955), ('길이', 0.9984104037284851), ('우려', 0.9984077215194702), ('이로', 0.9983971118927002)]\n"
          ]
        }
      ]
    },
    {
      "cell_type": "code",
      "source": [
        "from gensim.models import KeyedVectors\n",
        "\n",
        "embedding_model.wv.save_word2vec_format('./petitions_tokens_w2v')\n",
        "\n",
        "loaded_model = KeyedVectors.load_word2vec_format('./petitions_tokens_w2v')\n",
        "model_result = loaded_model.most_similar('음주')\n",
        "print(model_result)"
      ],
      "metadata": {
        "colab": {
          "base_uri": "https://localhost:8080/"
        },
        "id": "wiNHQ3HnOzZS",
        "outputId": "90952174-9a42-4b6a-8cb2-742b6c8c1c62"
      },
      "execution_count": null,
      "outputs": [
        {
          "output_type": "stream",
          "name": "stdout",
          "text": [
            "[('아이디어', 0.9985363483428955), ('영산강', 0.9984657764434814), ('갈수록', 0.9984551668167114), ('장착', 0.9984496831893921), ('설정', 0.9984275698661804), ('방면', 0.9984175562858582), ('대형견', 0.9984142780303955), ('길이', 0.9984104037284851), ('우려', 0.9984077215194702), ('이로', 0.9983971118927002)]\n"
          ]
        }
      ]
    },
    {
      "cell_type": "code",
      "source": [
        "from numpy.random import RandomState\n",
        "\n",
        "rng = RandomState()\n",
        "\n",
        "tr = df_drop.sample(frac=.8, random_state = rng)\n",
        "val = df_drop.loc[~df_drop.index.isin(tr.index)]\n",
        "\n",
        "tr.to_csv('/content/train.csv', index=False, encoding = 'utf-8-sig')\n",
        "val.to_csv('/content/val.csv', index=False, encoding = 'utf-8-sig')\n"
      ],
      "metadata": {
        "id": "a0hIbPQ5RoOR"
      },
      "execution_count": null,
      "outputs": []
    },
    {
      "cell_type": "code",
      "source": [
        "!pip install torchtext==0.8.0"
      ],
      "metadata": {
        "id": "d0RtCL9VU7H3"
      },
      "execution_count": null,
      "outputs": []
    },
    {
      "cell_type": "code",
      "source": [
        "from torchtext.data.utils import get_tokenizer\n",
        "\n",
        "def tokenizer(text):\n",
        "    text = re.sub('[\\[\\]\\']','',str(text))\n",
        "    text = text.split(',')\n",
        "    return text\n",
        "\n",
        "TEXT = get_tokenizer(tokenizer = tokenizer)\n",
        "LABEL = get_tokenizer(tokenizer = tokenizer)"
      ],
      "metadata": {
        "id": "G43lL61JTW-G"
      },
      "execution_count": null,
      "outputs": []
    }
  ]
}